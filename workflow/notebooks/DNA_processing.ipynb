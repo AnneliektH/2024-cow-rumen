{
 "cells": [
  {
   "cell_type": "markdown",
   "metadata": {},
   "source": [
    "# process the DNA assemblies to get viral contigs\n",
    "- concatenate all contigs\n",
    "- remove everything under 10kb\n",
    "- rename\n",
    "- run virsorter2\n",
    "- run iphop\n",
    "- map reads\n",
    "\n",
    "\n",
    "All assembled contigs from the xx samples were concatenated into one fasta file. Contigs smaller than 10kb were removed, and contigs were renamed using bbmap (ref) reformat.sh and rename.sh, respectively. Virsorter2 (ref) was then ran on all remaining contigs (n=454,868), using --min-length 10000 and --min-score 0.9. Resulting viral contigs were dereplicated at approximately species level (95% ANI), over 85% of the length of the shorter contig with CD-Hit (ref), using the -c 0.95 and -aS 0.85. Clustering resulted in xx viral contigs that were used for further analysis.\n",
    "Bowtie2 (ref), was used to map reads to the viral contigs. A bowtie2 index file was createdusing the bowtie2-build command, otherwise standard settings. Both metatranscriptomic reads and metagenomic reads were mapped, to get an overview of the respective 'active' viral community and the present viral community. Reads were mapped using the --no-unal and --sensitive settings. \n",
    "\n"
   ]
  },
  {
   "cell_type": "code",
   "execution_count": null,
   "metadata": {
    "vscode": {
     "languageId": "shellscript"
    }
   },
   "outputs": [],
   "source": [
    "# concatenate (n=)\n",
    "cat /home/hfm/ER_rumenShotgun/ER_Nanuq/MAG/assembled_reads/NS*/final.contigs.fa > all_DNA_contigs.Hugo.fa\n",
    "\n",
    "# srun \n",
    "srun --account=ctbrowngrp -p bmm -J vs2 -t 0:10:00 -c 1 --mem=50gb --pty bash\n",
    "\n",
    "# rename and remove < 10k\n",
    "mamba activate bbmap\n",
    "reformat.sh in=all_DNA_contigs.Hugo.fa out=all_DNA_contigs.10k.fa minlength=10000 -Xmx50g\n",
    "rename.sh in=all_DNA_contigs.10k.fa out=all_DNA_contigs.10k.rn.fa prefix=ath_rumen_2024_ -Xmx50g\n",
    "\n",
    "# Partition it because virsorter will take forever on 454,868 sequences\n",
    "partition.sh in=../all_DNA_contigs.10k.rn.fa out=out_%.fasta ways=40 -Xmx50g\n"
   ]
  },
  {
   "cell_type": "code",
   "execution_count": null,
   "metadata": {},
   "outputs": [],
   "source": [
    "# snakemake virsorter on the subsetted files\n",
    "srun --account=ctbrowngrp -p med2 -J vs2 -t 24:00:00 -c 48 --mem=50gb --pty bash\n",
    "\n",
    "mamba activate branchwater\n",
    "snakemake --use-conda --resources mem_mb=50000 --rerun-triggers mtime \\\n",
    "-c 48 --rerun-incomplete -k -s Snakefile_vs2\n",
    "\n",
    "\n",
    "# snakemake file\n",
    "FASTA, = glob_wildcards('../resources/split_DNA_contigs/{fasta}.fasta')\n",
    "\n",
    "rule all:\n",
    "    input:\n",
    "        expand(\"../results/virsorter2/DNA/check/{fasta}.done\", fasta=FASTA),\n",
    "\n",
    "rule virsorter2:\n",
    "    input:\n",
    "        fasta = '../resources/split_DNA_contigs/{fasta}.fasta',\n",
    "    output:\n",
    "        check='../results/virsorter2/DNA/check/{fasta}.done',\n",
    "    conda: \n",
    "        \"virsorter2\"\n",
    "    threads: 16\n",
    "    shell:\n",
    "        \"\"\"\n",
    "        virsorter run all -w ../results/virsorter2/DNA/{wildcards.fasta} \\\n",
    "        -i {input.fasta} -d /group/jbemersogrp/databases/virsorter/ \\\n",
    "        --min-length 10000 -j {threads} --min-score 0.9\n",
    "        \"\"\"\n"
   ]
  },
  {
   "cell_type": "code",
   "execution_count": null,
   "metadata": {},
   "outputs": [],
   "source": [
    "# resulted in 58,188 viral contigs\n",
    "# Now concatenate and drep at 95\n",
    "\n",
    "# srun \n",
    "srun --account=ctbrowngrp -p bmm -J vs2 -t 0:10:00 -c 1 --mem=50gb --pty bash\n",
    "\n",
    "# rename again bc of stupid ||\n",
    "mamba activate bbmap\n",
    "rename.sh in=viral_contigs.fa out=viral_contigs.rn.fa prefix=ath_rumvir_24_ -Xmx50g\n",
    "\n",
    "# split contigs for drep\n",
    "mkdir contigs\n",
    "cd ./contigs\n",
    "awk '/^>/ {OUT=substr($0,2) \".fa\"}; OUT {print >OUT}' ../viral_contigs.rn.fa \n",
    "\n",
    "srun --account=ctbrowngrp -p bmh -J drep -t 10:00:00 -c 24 --mem=100gb --pty bash\n",
    "mamba activate drep\n",
    "\n",
    "# Run dRep at 95% ANI over 85% of length of longest contigs\n",
    "dRep dereplicate ./drep --S_algorithm ANImf --ignoreGenomeQuality -l 10000 -sa 0.95 -nc 0.85 -p 24"
   ]
  },
  {
   "cell_type": "code",
   "execution_count": null,
   "metadata": {},
   "outputs": [],
   "source": [
    "# now cdhit to deduplicate, drep being shitty \n",
    "srun --account=ctbrowngrp -p bmm -J cdhit -t 5:00:00 -c 32 --mem=70gb --pty bash\n",
    "\n",
    "mamba activate cdhit\n",
    "cd-hit-est -i viral_contigs.rn.fa \\\n",
    "-o viral_contigs.95.cluster.fa -d 0 \\\n",
    "-c 0.95 -aS 0.85 -M 95000 -T 24"
   ]
  },
  {
   "cell_type": "code",
   "execution_count": null,
   "metadata": {},
   "outputs": [],
   "source": [
    "# DNA reads:\n",
    "/home/hfm/ER_rumenShotgun/ER_Nanuq/TRIMMED/*R1_trim.fastq.gz\n",
    "\n",
    "# metaT reads\n",
    "/home/hfm/Rumen_Microbiome_Genomics/1_Sequences_Guanhui/TRIMMED/18048XR-81-24_S11_L003_R2_001_trim.fixed.gz"
   ]
  },
  {
   "cell_type": "code",
   "execution_count": null,
   "metadata": {},
   "outputs": [],
   "source": [
    "# Iphop\n",
    "# Only run iphop on sequences with an RdRp predicted. I don't think it makes sense to use the rest\n",
    "# We can run iphop on DNA viruses too\n",
    "mamba activate bbmap\n",
    "filterbyname.sh in=../../resources/Hugo_metaT.assembly.fa out=contigs_w_rdrp.fa \\\n",
    "names=../genomad_out/contigs_w_rdrp.txt include=t\n",
    "\n",
    "ln -s /group/jbemersogrp/databases/iphop . \n",
    "\n",
    "# run it\n",
    "srun --account=ctbrowngrp -p med2 -J iphop -t 24:00:00 -c 30 --mem=70gb --pty bash\n",
    "\n",
    "mamba activate iphop_env\n",
    "iphop predict -f contigs_w_rdrp.fa \\\n",
    "-o ./ -d ./iphop/latest/Aug_2023_pub_rw -t 30"
   ]
  }
 ],
 "metadata": {
  "language_info": {
   "name": "python"
  }
 },
 "nbformat": 4,
 "nbformat_minor": 2
}
