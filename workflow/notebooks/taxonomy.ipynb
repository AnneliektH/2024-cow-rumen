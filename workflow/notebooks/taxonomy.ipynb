{
 "cells": [
  {
   "cell_type": "markdown",
   "metadata": {},
   "source": [
    "### Taxonomy dataframe wrangling\n",
    "- Get the taxonomy for NCBI Refseq RdRp sequences\n",
    "- Compare Refseq to genomad taxonomy\n",
    "- Manually curate the comparison file\n",
    "- Write file with sequence names that places seqs in viral family (so one file per fam)\n",
    "- Use these files for family taxonomy trees\n"
   ]
  },
  {
   "cell_type": "markdown",
   "metadata": {},
   "source": []
  }
 ],
 "metadata": {
  "language_info": {
   "name": "python"
  }
 },
 "nbformat": 4,
 "nbformat_minor": 2
}
