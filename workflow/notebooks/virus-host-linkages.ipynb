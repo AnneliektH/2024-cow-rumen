{
 "cells": [
  {
   "cell_type": "markdown",
   "metadata": {},
   "source": [
    "## virus host links\n",
    "- Link vOTUs to putative hosts\n",
    "- Predict CRISPR-spacer regions using minced, https://github.com/ctSkennerton/minced\n",
    "- Deduplicate at 100% ANI \n",
    "- Blast against vOTUs (own), vOTUs (RVD)\n",
    "- Get linkages\n",
    "- If linked, check abundance of host and virus through samples using either manysearch of fmg\n",
    "\n",
    "\n",
    "blast options:\n",
    "and matches with ≤ 1 mismatch and an E-value ≤ 1e−5 \n",
    "https://www.nature.com/articles/s41467-023-38400-0\n",
    "\n",
    "CRISPR spacers in genome bins were BLASTn55 searched against all viral elements, with hits retained only if they had up to one mismatch, a query coverage of ≥ 90% and an E-value ≤ 10−4\n",
    "https://www.nature.com/articles/s41598-023-32078-6"
   ]
  },
  {
   "cell_type": "code",
   "execution_count": null,
   "metadata": {},
   "outputs": [],
   "source": [
    "# bins  (n=17558), *.fa\n",
    "/home/hfm/ER_rumenShotgun/ER_Nanuq/MAG/bins "
   ]
  },
  {
   "cell_type": "code",
   "execution_count": null,
   "metadata": {},
   "outputs": [],
   "source": [
    "# Running both minced and sourmash to sketch the bins so I can get some taxonomy\n",
    "# snakemake virsorter on the subsetted files\n",
    "srun --account=ctbrowngrp -p bmh -J minced -t 20:00:00 -c 80 --mem=50gb --pty bash\n",
    "srun --account=ctbrowngrp -p med2 -J minced -t 24:00:00 -c 30 --mem=50gb --pty bash\n",
    "\n",
    "\n",
    "mamba activate branchwater\n",
    "snakemake --use-conda --resources mem_mb=50000 --rerun-triggers mtime \\\n",
    "-c 30 --rerun-incomplete -k -s Snakefile_crispr\n"
   ]
  },
  {
   "cell_type": "code",
   "execution_count": null,
   "metadata": {},
   "outputs": [],
   "source": [
    "# fastmultigather\n",
    "srun --account=ctbrowngrp -p bmh -J fmg -t 12:00:00 -c 32 --mem=100gb --pty bash\n",
    "\n",
    "# Do fastmultigather on all sketches\n",
    "cd ../results/sourmash/MAGsketch\n",
    "readlink -f *.zip > ../MAG_sketch.filepath.txt\n",
    "\n",
    "# do fastmultigather against genbank\n",
    "/group/ctbrowngrp/sourmash-db/genbank-2022.03/genbank-2022.03-bacteria.lineages.csv.gz\n",
    "/group/ctbrowngrp/sourmash-db/genbank-2022.03/genbank-2022.03-archaea.lineages.csv.gz\n",
    "/group/ctbrowngrp/sourmash-db/genbank-2022.03/genbank-2022.03-protozoa.lineages.csv.gz\n",
    "\n",
    "\n",
    "# fmg bacteria\n",
    "sourmash scripts fastmultigather \\\n",
    "../MAGsketch.filepath.txt \\\n",
    "/group/ctbrowngrp/sourmash-db/genbank-2022.03/genbank-2022.03-bacteria-k31.zip \\\n",
    "-k 31 --scaled 1000 -m DNA -c 32\n",
    "\n",
    "# fmg archeae\n",
    "sourmash scripts fastmultigather \\\n",
    "../MAGsketch.filepath.txt \\\n",
    "/group/ctbrowngrp/sourmash-db/genbank-2022.03/genbank-2022.03-archaea-k31.zip \\\n",
    "-k 31 --scaled 1000 -m DNA -c 32\n",
    "\n",
    "# protozoa\n",
    "sourmash scripts fastmultigather \\\n",
    "../MAGsketch.filepath.txt \\\n",
    "/group/ctbrowngrp/sourmash-db/genbank-2022.03/genbank-2022.03-protozoa-k31.zip \\\n",
    "-k 31 --scaled 1000 -m DNA -c 32"
   ]
  },
  {
   "cell_type": "code",
   "execution_count": null,
   "metadata": {},
   "outputs": [],
   "source": [
    "# tax classify\n",
    "readlink -f *.gather.csv > ../tax/archaea.txt"
   ]
  },
  {
   "cell_type": "code",
   "execution_count": null,
   "metadata": {},
   "outputs": [],
   "source": [
    "# tax classify them \n",
    "sourmash tax genome -q --from-file protozoa.txt \\\n",
    "-t /group/ctbrowngrp/sourmash-db/genbank-2022.03/genbank-2022.03-protozoa.lineages.csv.gz \\\n",
    "--output-dir protozoa -o protozoa\n",
    "\n",
    "sourmash tax genome -q --from-file bacteria.txt \\\n",
    "-t /group/ctbrowngrp/sourmash-db/genbank-2022.03/genbank-2022.03-bacteria.lineages.csv.gz \\\n",
    "--output-dir . -o bacteria"
   ]
  },
  {
   "cell_type": "code",
   "execution_count": null,
   "metadata": {},
   "outputs": [],
   "source": [
    "# go to the crispr folder\n",
    "cd ./results/crispr/\n",
    "\n",
    "# concatenate all spacers (n=32328)\n",
    "cat *.fa > ../all_spacers.fa\n",
    "\n",
    "# Cat rvd and own contigs (all, not deduplicated)\n",
    "cat RVD_rn.fa viral_contigs.rn.fa > RVD_owncontigs.fa\n",
    "\n",
    "# make a blastdb of all vOTU sequences (no dereplication, may be interesting strain diversity))\n",
    "srun --account=ctbrowngrp -p high2 -J blastn -t 12:00:00 -c 8 --mem=50gb --pty bash\n",
    "\n",
    "# make a db \n",
    "mamba activate blast\n",
    "makeblastdb -in RVD_owncontigs.fa -dbtype nucl -out ./blastdb/RVD_owncontigs\n",
    "\n",
    "# Blast spacers to vOTUs (83,409 linkages).\n",
    "# Extract RVD links and do coverM for these too\n",
    "blastn -task blastn-short -num_threads 8 \\\n",
    "-query all_spacers.minced.fa \\\n",
    "-db ./blastdb/RVD_owncontigs \\\n",
    "-evalue 1e-5 -perc_identity 95 -outfmt 6 \\\n",
    "-out spacers_vOTUs.rumen.minced "
   ]
  },
  {
   "cell_type": "code",
   "execution_count": null,
   "metadata": {},
   "outputs": [],
   "source": [
    "# then concat those rumen virs with our virs, deduplicate and make a coverage table. \n",
    "# Maybe even all rumen ones?\n"
   ]
  }
 ],
 "metadata": {
  "language_info": {
   "name": "python"
  }
 },
 "nbformat": 4,
 "nbformat_minor": 2
}
