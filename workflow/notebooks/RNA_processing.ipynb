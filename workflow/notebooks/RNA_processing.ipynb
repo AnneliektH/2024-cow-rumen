{
 "cells": [
  {
   "cell_type": "markdown",
   "metadata": {
    "vscode": {
     "languageId": "shellscript"
    }
   },
   "source": [
    "## Process metatranscriptomic assemblies to look for RNA viruses\n",
    "- Get all metatranscriptomic assemblies (n=9,822,279)\n",
    "- Cut off at 600bp (at least one ORF) (n=1,459,768)\n",
    "- Run genomad to recover viral proteins (uses prodigal-gv)\n",
    "- Manually go through output and only keep matches to RdRps.\n",
    "- Deduplicate both the protein (99% AAI) and DNA sequences (95% ANI)\n",
    "- Use seqkit to get RdRp protein sequences\n",
    "- Downloaded NCBI RefSeq (v. 224) RdRp sequences (n=2124)\n",
    "- BlastP against all rdRp in refseq.\n",
    "- Manually compare blast and genomad taxonomy\n",
    "- If match, place in family level tree\n",
    "\n",
    "\n",
    "For taxonomic classifications of RdRps and comparison of blast vs genomad, see # For taxonomy, see the taxomony notebook (taxonomy.ipynb)\n",
    "\n",
    "\n"
   ]
  },
  {
   "cell_type": "code",
   "execution_count": null,
   "metadata": {
    "vscode": {
     "languageId": "shellscript"
    }
   },
   "outputs": [],
   "source": [
    "# LENGHT CUTOFF\n",
    "# Cut-off at 600 bp for each contig (will be about 200 aa)\n",
    "mamba activate bbmap\n",
    "reformat.sh in=Hugo_metaT.assembly.fa out=Hugo_metaT.over600.trim.fa minlength=600 -Xmx50g\n",
    "\n",
    "# remove spaces from headers\n",
    "reformat.sh in=Hugo_metaT.over600.trim.fa out=Hugo_metaT.over600.trim.ns.fa trd\n"
   ]
  },
  {
   "cell_type": "code",
   "execution_count": null,
   "metadata": {
    "vscode": {
     "languageId": "shellscript"
    }
   },
   "outputs": [],
   "source": [
    "# GENOMAD\n",
    "# Use Genomad to predict and recover viral proteins from metaTs.\n",
    "# link the genomad db \n",
    "ln -s /group/jbemersogrp/databases/genomad/genomad_db . \n",
    "\n",
    "# srun it, needs quite some mem\n",
    "srun --account=ctbrowngrp -p bmm -J genomad -t 12:00:00 -c 50 --mem=100gb --pty bash\n",
    "\n",
    "# end to end for everything, need to annotate for classification\n",
    "# after genomad, screen the results by hand.\n",
    "# For the ones that are predicted to be RdRp, create phylo trees, and map reads to contigs\n",
    "mamba activate genomad\n",
    "genomad end-to-end \\\n",
    "Hugo_metaT.over600.trim.fa ../results/genomad_out genomad_db \\\n",
    "--threads 50 --enable-score-calibration \\\n",
    "--splits 10 --cleanup \\"
   ]
  },
  {
   "cell_type": "code",
   "execution_count": null,
   "metadata": {
    "vscode": {
     "languageId": "shellscript"
    }
   },
   "outputs": [],
   "source": [
    "# FILTER SEQUENCES\n",
    "# Use genomad output to filter assemblies and proteins to only retain hits to RdRp\n",
    "# Filter assemblies (n=3,491)\n",
    "mamba activate bbmap\n",
    "filterbyname.sh in=Hugo_metaT.over600.trim.fa \\\n",
    "out=metaT.Rdrphits.fa \\\n",
    "names=all_contigs_rdrphit.txt include=t\n",
    "\n",
    "# filter proteins (proteins from genomad_output, n=3,498)\n",
    "mamba activate seqkit\n",
    "seqkit grep -n -f all_proteins_rdrphit.txt \\\n",
    "Hugo_metaT.over600.trim_virus_proteins.faa -o metaT.Rdrphits.faa\n",
    "\n",
    "# Clean headers, as I don't want spaces in them\n",
    "cut -d\" \" -f1 metaT.Rdrphits.faa > metaT.Rdrphits.ns.faa\n"
   ]
  },
  {
   "cell_type": "code",
   "execution_count": null,
   "metadata": {
    "vscode": {
     "languageId": "shellscript"
    }
   },
   "outputs": [],
   "source": [
    "# DEREPLICATION\n",
    "# Contigs, dereplicate at 95% ANI (n=2,378)\n",
    "mamba activate cdhit\n",
    "cd-hit-est -i metaT.Rdrphits.fa \\\n",
    "-o 240708_rdrp_contigs.fa -d 0 \\\n",
    "-c 0.95 -aS 0.85 -M 95000 -T 24\n",
    "\n",
    "# dereplicate the protein sequences\n",
    "# Deduplicate the RdRps of interest, together with the refseq RdRps (2,656 sequences left, great!):\n",
    "mamba activate cdhit\n",
    "cd-hit -i  own_refseq.rdrp.faa -o  own_refseq.rdrp.dedup.faa \\\n",
    "-c 0.99 -T 1 -d 0"
   ]
  },
  {
   "cell_type": "code",
   "execution_count": null,
   "metadata": {
    "vscode": {
     "languageId": "shellscript"
    }
   },
   "outputs": [],
   "source": [
    "# READ MAPPING\n",
    "# create a bowtie index \n",
    "mamba activate bowtie2\n",
    "bowtie2-build 240708_rdrp_contigs.fa 240708_rdrp_contigs -p 30\n",
    "\n",
    "# link the clean metaT reads\n",
    "ln -s /home/hfm/Rumen_Microbiome_Genomics/1_Sequences_Guanhui/TRIMMED/*R1_001_trim* .\n",
    "ln -s /home/hfm/Rumen_Microbiome_Genomics/1_Sequences_Guanhui/TRIMMED/*R2_001_trim* .\n",
    "\n",
    "# Use snakemake for read mapping (see Snakefile_bowtie)\n",
    "# srun\n",
    "srun --account=ctbrowngrp -p med2 -J bt2 -t 5:00:00 -c 30 --mem=50gb --pty bash\n",
    "# snakemake\n",
    "snakemake -s Snakefile_bowtie --use-conda --resources mem_mb=50000 --rerun-triggers mtime \\\n",
    "-c 30 --rerun-incomplete -k -n"
   ]
  },
  {
   "cell_type": "code",
   "execution_count": null,
   "metadata": {
    "vscode": {
     "languageId": "shellscript"
    }
   },
   "outputs": [],
   "source": [
    "# COVERAGE TABLE\n",
    "# Use coverM to create a coverage table for RNA virs with RdRp\n",
    "mamba activate coverm\n",
    "\n",
    "# make a coverage table, where the min amount of the contig that has to be covered is 75%\n",
    "coverm contig -m mean --min-covered-fraction 0.75 -b *.bam > ../../240708_coverM-RNA.tsv"
   ]
  },
  {
   "cell_type": "code",
   "execution_count": null,
   "metadata": {
    "vscode": {
     "languageId": "shellscript"
    }
   },
   "outputs": [],
   "source": [
    "# PHYLOGENETIC TREES\n",
    "# Use protein predictions to create phylo trees for RdRps (and thus RNA virs)\n",
    "# Compare blastX and Genomad phylogenies to figure out what family an RdRp should be in a tree with\n",
    "\n",
    "# create a diamond db \n",
    "mamba activate diamond\n",
    "diamond makedb --in refseqrdrp.ns.faa --db refseqrdrp.ns.dmnd\n",
    "\n",
    "# do blastp (out of 2656, 2028 aligned. 1,826 aligned with something at family level) in ./results/alignments/\n",
    "mamba activate diamond\n",
    "diamond blastp -q own.dedup.faa \\\n",
    "--max-target-seqs 1 --header \\\n",
    "-e 1 --threads 1 \\\n",
    "--very-sensitive \\\n",
    "--db refseqrdrp.ns.dmnd \\\n",
    "-o refseq.genomad.blastp.tsv"
   ]
  },
  {
   "cell_type": "code",
   "execution_count": null,
   "metadata": {
    "vscode": {
     "languageId": "shellscript"
    }
   },
   "outputs": [],
   "source": [
    "# Create phylogenetic trees using clustalo, trimal and fasttree\n",
    "# Obviously an overarching tree was created for all RdRps, using same commands\n",
    "# See Snakefile_alignment\n",
    "# run snake\n",
    "srun --account=ctbrowngrp -p bmm -J tree -t 1:00:00 -c 36 --mem=50gb --pty bash\n",
    "\n",
    "# Run snakemake \n",
    "snakemake -s Snakefile_alignment --use-conda --resources mem_mb=50000 --rerun-triggers mtime \\\n",
    "-c 36 --rerun-incomplete -k -n"
   ]
  },
  {
   "cell_type": "code",
   "execution_count": null,
   "metadata": {
    "vscode": {
     "languageId": "shellscript"
    }
   },
   "outputs": [],
   "source": [
    "# Make sure to export each new env into a yml\n",
    "conda env export > environment.yml\n",
    "\n",
    "see https://github.com/AnneliektH/2024-caleb-snakemake/ on how to call on them"
   ]
  }
 ],
 "metadata": {
  "language_info": {
   "name": "python"
  }
 },
 "nbformat": 4,
 "nbformat_minor": 2
}
