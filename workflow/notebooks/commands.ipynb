{
 "cells": [
  {
   "cell_type": "markdown",
   "metadata": {
    "vscode": {
     "languageId": "shellscript"
    }
   },
   "source": [
    "## Steps that weren't done with snakemake "
   ]
  },
  {
   "cell_type": "code",
   "execution_count": null,
   "metadata": {
    "vscode": {
     "languageId": "shellscript"
    }
   },
   "outputs": [],
   "source": [
    "## Step 5 : nr blast all contigs with an RdRp hit\n",
    "\n",
    "# pull all contigs with a hit to an RdRp from fasta file to perform blastx against nr\n",
    "\n",
    "mamba activate bbmap\n",
    "filterbyname.sh in=../resources/Hugo_metaT.assembly.fa out=../results/concat_files/metaT.Rdrphits.fa \\\n",
    "names=all_contigs_rdrphit.txt include=t\n",
    "\n",
    "# perform blastx using diamond\n",
    "\n",
    "mamba activate diamond\n",
    "diamond blastx -q metaT.Rdrphits.fa \\\n",
    "--min-orf 600 --max-target-seqs 1 \\\n",
    "-e 1e-5 --threads 50 \\\n",
    "--very-sensitive \\\n",
    "--db nr.dmnd \\\n",
    "-o ../diamond/RdRp_hits.to.nr.csv\n",
    "\n",
    "## manually compare output hits to NCBI protein names, remove all that have hit to non-viral protein."
   ]
  },
  {
   "cell_type": "markdown",
   "metadata": {},
   "source": [
    "### Step 6: Cluster resulting proteins with match at 99% identity using cdhit for alignment\n",
    "\n",
    "Before alignment: From contigs that only had a blastx hit, and no HMM hit, find the specific proteins that are an RdRp. \n",
    "- take out the contigs that had only a blastx hit (n=42)\n",
    "- predict proteins (n=46) and we want only those 42 RdRps\n",
    "- run blastp against RdRp db \n",
    "- results in 42 matches! Good"
   ]
  },
  {
   "cell_type": "code",
   "execution_count": null,
   "metadata": {
    "vscode": {
     "languageId": "shellscript"
    }
   },
   "outputs": [],
   "source": [
    "# clear protein headers from pyrodigal (remove everything after space)\n",
    "cut -d ' ' -f1 ../protein/Hugo.metaT_all.faa > ../protein/Hugo.metaT_all.trim.faa \n",
    "\n",
    "# pull out all proteins that are predicted to be RdRp (5,139)\n",
    "\n",
    "mamba activate seqkit\n",
    "seqkit grep -n -f all_proteins_rdrphit.txt Hugo.metaT_all.cdhit.99.trim.faa -o metaT.Rdrphits.faa\n",
    "\n",
    "# deduplicate at 99% ident, 3,859 sequences left\n",
    "\n",
    "mamba activate cdhit\n",
    "cd-hit -i  metaT.Rdrphits.faa -o  metaT.Rdrphits.dedup.faa \\\n",
    "-c 0.99 -T 1"
   ]
  },
  {
   "cell_type": "code",
   "execution_count": null,
   "metadata": {
    "vscode": {
     "languageId": "shellscript"
    }
   },
   "outputs": [],
   "source": [
    "# Step 7: Use clustalo for alignment\n",
    "mamba activate clustalo\n",
    "clustalo --p1 ../resources/RdRp-scan/Phylogenies/RdRp-scan.CLUSTALO_0.4.fasta \\\n",
    "--auto -i ./concatenated_files/metaT.Rdrphits.dedup.faa -t Protein --threads=12 \\\n",
    "-o ./alignments/alignrdrp.clustalo"
   ]
  },
  {
   "cell_type": "markdown",
   "metadata": {
    "vscode": {
     "languageId": "shellscript"
    }
   },
   "source": [
    "TODO:\n",
    "- trim alignments (TrimAL)\n",
    "- best fit model AA substitution (ProtTest)\n",
    "- phylo trees (FastTree)"
   ]
  },
  {
   "cell_type": "code",
   "execution_count": null,
   "metadata": {
    "vscode": {
     "languageId": "shellscript"
    }
   },
   "outputs": [],
   "source": [
    "# srun\n",
    "srun --account=ctbrowngrp -p med2 -J clustalo -t 4:00:00 -c 12 --mem=30gb --pty bash"
   ]
  },
  {
   "cell_type": "code",
   "execution_count": null,
   "metadata": {
    "vscode": {
     "languageId": "shellscript"
    }
   },
   "outputs": [],
   "source": [
    "# Make sure to export each new env into a yml\n",
    "conda env export > environment.yml\n",
    "\n",
    "see https://github.com/AnneliektH/2024-caleb-snakemake/ on how to call on them"
   ]
  }
 ],
 "metadata": {
  "language_info": {
   "name": "python"
  }
 },
 "nbformat": 4,
 "nbformat_minor": 2
}
