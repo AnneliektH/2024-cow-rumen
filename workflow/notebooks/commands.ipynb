{
 "cells": [
  {
   "cell_type": "markdown",
   "metadata": {
    "vscode": {
     "languageId": "shellscript"
    }
   },
   "source": [
    "## Steps that weren't done with snakemake "
   ]
  },
  {
   "cell_type": "code",
   "execution_count": null,
   "metadata": {
    "vscode": {
     "languageId": "shellscript"
    }
   },
   "outputs": [],
   "source": [
    "# getting stuck on RdRp-Scan and building trees, also want to use Genomad\n",
    "# link genomad db \n",
    "ln -s /group/jbemersogrp/databases/genomad/genomad_db . \n",
    "\n",
    "# srun it, needs quite some mem\n",
    "srun --account=ctbrowngrp -p bmm -J genomad -t 12:00:00 -c 50 --mem=100gb --pty bash\n",
    "\n",
    "# end to end for everything, need to annotate for classification\n",
    "# after genomad, screen the results by hand.\n",
    "# For the ones that are predicted to be RdRp, create phylo trees, and map reads to contigs\n",
    "mamba activate genomad\n",
    "genomad end-to-end \\\n",
    "Hugo_metaT.over600.trim.fa ../results/genomad_out genomad_db \\\n",
    "--threads 50 --enable-score-calibration \\\n",
    "--splits 10 --cleanup \\"
   ]
  },
  {
   "cell_type": "code",
   "execution_count": null,
   "metadata": {
    "vscode": {
     "languageId": "shellscript"
    }
   },
   "outputs": [],
   "source": [
    "\n",
    "# virsorter2 for RNA viral genome screening (n=18261), if needed.\n",
    "srun --account=ctbrowngrp -p bmm -J vs2 -t 5:00:00 -c 12 --mem=30gb --pty bash\n",
    "\n",
    "mamba activate virsorter2\n",
    "virsorter run all -w ./RNA_virus_genomad \\\n",
    "-i contig.virprot.genomad.fa -d /group/jbemersogrp/databases/virsorter/ \\\n",
    "--min-length 1000 -j 12 --min-score 0.5 --include-groups RNA\n"
   ]
  },
  {
   "cell_type": "code",
   "execution_count": null,
   "metadata": {
    "vscode": {
     "languageId": "shellscript"
    }
   },
   "outputs": [],
   "source": [
    "# Should we use a different protein prediction model??\n",
    "# Genomad uses prodigal-gv, may use those proteins for the rest of the pipeline (https://github.com/apcamargo/prodigal-gv)\n",
    "# Use IpHop for host predictions. \n",
    "# Cross reff iphop result with the genomad taxonomy.\n",
    "# Run pharokka for crispr repeat sequences? \n",
    "\n"
   ]
  },
  {
   "cell_type": "code",
   "execution_count": null,
   "metadata": {
    "vscode": {
     "languageId": "shellscript"
    }
   },
   "outputs": [],
   "source": [
    "# Iphop\n",
    "# Only run iphop on sequences with an RdRp predicted. I don't think it makes sense to use the rest\n",
    "# We can run iphop on DNA viruses too\n",
    "mamba activate bbmap\n",
    "filterbyname.sh in=../../resources/Hugo_metaT.assembly.fa out=contigs_w_rdrp.fa \\\n",
    "names=../genomad_out/contigs_w_rdrp.txt include=t\n",
    "\n",
    "ln -s /group/jbemersogrp/databases/iphop . \n",
    "\n",
    "# run it\n",
    "srun --account=ctbrowngrp -p med2 -J iphop -t 24:00:00 -c 30 --mem=70gb --pty bash\n",
    "\n",
    "mamba activate iphop_env\n",
    "iphop predict -f contigs_w_rdrp.fa \\\n",
    "-o ./ -d ./iphop/latest/Aug_2023_pub_rw -t 30"
   ]
  },
  {
   "cell_type": "code",
   "execution_count": null,
   "metadata": {
    "vscode": {
     "languageId": "shellscript"
    }
   },
   "outputs": [],
   "source": [
    "# dereplicate the RNA contigs (95% ani, n=3,491)\n",
    "# run drep on all viral contigs predicted by vibrant (n=17703) + all found by PIGEON (581)\n",
    "# split contigs into individual fastas (dRep accepts individual contigs only)\n",
    "mkdir contigs\n",
    "cd ./contigs\n",
    "awk '/^>/ {OUT=substr($0,2) \".fa\"}; OUT {print >OUT}' ../*.fa \n",
    "\n",
    "srun --account=ctbrowngrp -p med2 -J drep -t 2:00:00 -c 30 --mem=50gb --pty bash\n",
    "mamba activate drep\n",
    "\n",
    "# Run dRep at 95% ANI over 85% of length of longest contigs\n",
    "dRep dereplicate ./drep --S_algorithm ANImf --ignoreGenomeQuality -l 300 -sa 0.95 -nc 0.85 \\\n",
    "-g ./contigs/*.fa -p 30"
   ]
  },
  {
   "cell_type": "code",
   "execution_count": null,
   "metadata": {
    "vscode": {
     "languageId": "shellscript"
    }
   },
   "outputs": [],
   "source": [
    "# create a bowtie index and map the reads (n=2378)\n",
    "cat ../drep/drep/dereplicated_genomes/*.fa > 240708_rdrp_contigs.fa\n",
    "mamba activate bowtie2\n",
    "bowtie2-build 240708_rdrp_contigs.fa 240708_rdrp_contigs -p 30\n",
    "\n",
    "# i think clean reads are in: /home/hfm/Rumen_Microbiome_Genomics/1_Sequences_Guanhui/TRIMMED/\n",
    "ln -s /home/hfm/Rumen_Microbiome_Genomics/1_Sequences_Guanhui/TRIMMED/*R1_001_trim* .\n",
    "ln -s /home/hfm/Rumen_Microbiome_Genomics/1_Sequences_Guanhui/TRIMMED/*R2_001_trim* .\n",
    "\n",
    "# Use snakemake for mapping\n",
    "snakemake --use-conda --resources mem_mb=50000 --rerun-triggers mtime \\\n",
    "-c 30 --rerun-incomplete -k -n"
   ]
  },
  {
   "cell_type": "code",
   "execution_count": null,
   "metadata": {
    "vscode": {
     "languageId": "shellscript"
    }
   },
   "outputs": [],
   "source": []
  },
  {
   "cell_type": "markdown",
   "metadata": {},
   "source": [
    "## Old notes, for rdrp scan"
   ]
  },
  {
   "cell_type": "code",
   "execution_count": null,
   "metadata": {
    "vscode": {
     "languageId": "shellscript"
    }
   },
   "outputs": [],
   "source": [
    "## Step 5 : nr blast all contigs with an RdRp hit\n",
    "# pull all contigs with a hit to an RdRp from fasta file to perform blastx against nr\n",
    "\n",
    "mamba activate bbmap\n",
    "filterbyname.sh in=../resources/Hugo_metaT.assembly.fa out=../results/concat_files/metaT.Rdrphits.fa \\\n",
    "names=all_contigs_rdrphit.txt include=t\n",
    "\n",
    "# perform blastx using diamond\n",
    "\n",
    "mamba activate diamond\n",
    "diamond blastx -q metaT.Rdrphits.fa \\\n",
    "--min-orf 600 --max-target-seqs 1 \\\n",
    "-e 1e-5 --threads 50 \\\n",
    "--very-sensitive \\\n",
    "--db nr.dmnd \\\n",
    "-o ../diamond/RdRp_hits.to.nr.csv\n",
    "\n",
    "## manually compare output hits to NCBI protein names, remove all that have hit to non-viral protein."
   ]
  },
  {
   "cell_type": "markdown",
   "metadata": {},
   "source": [
    "### Step 6: Cluster resulting proteins with match at 99% identity using cdhit for alignment\n",
    "\n",
    "Before alignment: From contigs that only had a blastx hit, and no HMM hit, find the specific proteins that are an RdRp. \n",
    "- take out the contigs that had only a blastx hit (n=42)\n",
    "- predict proteins (n=46) and we want only those 42 RdRps\n",
    "- run blastp against RdRp db \n",
    "- results in 42 matches! Good"
   ]
  },
  {
   "cell_type": "code",
   "execution_count": null,
   "metadata": {
    "vscode": {
     "languageId": "shellscript"
    }
   },
   "outputs": [],
   "source": [
    "# clear protein headers from pyrodigal (remove everything after space)\n",
    "cut -d ' ' -f1 ../protein/Hugo.metaT_all.faa > ../protein/Hugo.metaT_all.trim.faa \n",
    "\n",
    "# pull out all proteins that are predicted to be RdRp (5,139)\n",
    "\n",
    "mamba activate seqkit\n",
    "seqkit grep -n -f all_proteins_rdrphit.txt Hugo.metaT_all.cdhit.99.trim.faa -o metaT.Rdrphits.faa\n",
    "\n",
    "# deduplicate at 99% ident, 3,859 sequences left\n",
    "\n",
    "mamba activate cdhit\n",
    "cd-hit -i  metaT.Rdrphits.faa -o  metaT.Rdrphits.dedup.faa \\\n",
    "-c 0.99 -T 1"
   ]
  },
  {
   "cell_type": "code",
   "execution_count": null,
   "metadata": {
    "vscode": {
     "languageId": "shellscript"
    }
   },
   "outputs": [],
   "source": [
    "# Step 7: Use clustalo for alignment\n",
    "# ClustalO file contains spaces. ClustalO will remove everything after spaces so fix that\n",
    "sed 's, ,_,g' -i RdRp-scan.CLUSTALO_0.4.fasta \n",
    "srun --account=ctbrowngrp -p bmm -J clustalo -t 12:00:00 -c 50 --mem=50gb --pty bash\n",
    "\n",
    "mamba activate clustalo\n",
    "clustalo --p1 ../resources/RdRp-scan/Phylogenies/RdRp-scan.CLUSTALO_0.4.fasta \\\n",
    "--auto -i ./concatenated_files/metaT.Rdrphits.dedup.faa -t Protein --threads=50 \\\n",
    "-o ./alignments/alignrdrp.clustalo.faa"
   ]
  },
  {
   "cell_type": "markdown",
   "metadata": {
    "vscode": {
     "languageId": "shellscript"
    }
   },
   "source": [
    "TODO:\n",
    "- trim alignments (TrimAL)\n",
    "- phylo trees (FastTree)\n",
    "\n",
    "https://apsjournals.apsnet.org/doi/full/10.1094/PBIOMES-12-21-0080-R\n",
    "\n"
   ]
  },
  {
   "cell_type": "code",
   "execution_count": null,
   "metadata": {
    "vscode": {
     "languageId": "shellscript"
    }
   },
   "outputs": [],
   "source": [
    "# align all RdRp (around 3800) like sequences with the ones in their diamond db \n",
    "# --> Based on that see what clade it best matches with\n",
    "# The info file contains for each sequence what fam they belong to \n",
    "# Get alignment for 3516. \n",
    "\n",
    "# remove spaces from their fasta headers\n",
    "sed 's, ,_,g' RdRp-scan_0.90.fasta > RdRp-scan_0.90.ns.fasta\n",
    "\n",
    "# create a diamond db\n",
    "diamond makedb --in RdRp-scan_0.90.ns.fasta --db RdRp-scan_0.90.ns.dmnd\n",
    "\n",
    "# do blastp\n",
    "mamba activate diamond\n",
    "diamond blastp -q metaT.Rdrphits.dedup.faa \\\n",
    "--max-target-seqs 1 \\\n",
    "-e 1 --threads 1 \\\n",
    "--very-sensitive \\\n",
    "--db ../../resources/RdRp-scan/RdRp-scan_0.90.ns.dmnd \\\n",
    "-o prot_RdRp_todb_foralign.csv"
   ]
  },
  {
   "cell_type": "code",
   "execution_count": null,
   "metadata": {
    "vscode": {
     "languageId": "shellscript"
    }
   },
   "outputs": [],
   "source": [
    "# trimal (189 seqs removed bc only gaps)\n",
    "mamba activate trimal \n",
    "\n",
    "# do trimal\n",
    "trimal -in alignrdrp.clustalo \\\n",
    "-out alignrdrp.clustalo_trimal.faa -gappyout\n"
   ]
  },
  {
   "cell_type": "code",
   "execution_count": null,
   "metadata": {
    "vscode": {
     "languageId": "shellscript"
    }
   },
   "outputs": [],
   "source": [
    "# Fasttree\n",
    "srun --account=ctbrowngrp -p bmm -J fastree -t 5:00:00 -c 2 --mem=50gb --pty bash\n",
    "\n",
    "# Use FastTree to make phylogenetic trees\n",
    "mamba activate fasttree\n",
    "FastTree < alignrdrp.clustalo_trimal.faa > rdrd.align.all.fasttree.nwk \\\n",
    "-wag -log all.fasttree.log "
   ]
  },
  {
   "cell_type": "code",
   "execution_count": null,
   "metadata": {},
   "outputs": [],
   "source": [
    "# Do an alignment for each phylum with all seqs? See what fits best? It will be easy in a snakefile\n",
    "PHYLA, = glob_wildcards('../resources/RdRp-scan/Phylogenies/{ident}.CLUSTALO_0.4.fa')\n",
    "\n",
    "rule all:\n",
    "    input:\n",
    "        expand(\"../results/alignments/all.vs.{ident}.faa\", ident=PHYLA),\n",
    "\n",
    "rule clustalo:\n",
    "    input:\n",
    "        fasta = './concatenated_files/metaT.Rdrphits.dedup.faa', \n",
    "        alignment = \"../resources/RdRp-scan/Phylogenies/{ident}.CLUSTALO_0.4.fa\",\n",
    "    output:\n",
    "        res='../results/alignments/all.vs.{ident}.faa',\n",
    "    conda: \n",
    "        \"clustalo\"\n",
    "    threads: 12\n",
    "    shell:\n",
    "        \"\"\"\n",
    "        clustalo --p1 {input.alignment} \\\n",
    "        --auto -i {input.fasta} -t Protein --threads={threads} \\\n",
    "        -o {output.res}\n",
    "        \"\"\""
   ]
  },
  {
   "cell_type": "code",
   "execution_count": null,
   "metadata": {
    "vscode": {
     "languageId": "shellscript"
    }
   },
   "outputs": [],
   "source": [
    "# Make sure to export each new env into a yml\n",
    "conda env export > environment.yml\n",
    "\n",
    "see https://github.com/AnneliektH/2024-caleb-snakemake/ on how to call on them"
   ]
  },
  {
   "cell_type": "code",
   "execution_count": null,
   "metadata": {
    "vscode": {
     "languageId": "shellscript"
    }
   },
   "outputs": [],
   "source": [
    "# run snake\n",
    "srun --account=ctbrowngrp -p bmm -J clustalo -t 1:00:00 -c 36 --mem=50gb --pty bash\n",
    "\n",
    "\n",
    "snakemake --use-conda --resources mem_mb=50000 --rerun-triggers mtime \\\n",
    "-c 36 --rerun-incomplete -k -n"
   ]
  },
  {
   "cell_type": "code",
   "execution_count": null,
   "metadata": {
    "vscode": {
     "languageId": "shellscript"
    }
   },
   "outputs": [],
   "source": [
    "# Should putative RdRps be checked for motifs?\n",
    "# Motif dbs should be dedupt to make it easier\n",
    "\n",
    "mamba activate seqkit\n",
    "for f in *.fasta\n",
    "do \n",
    "seqkit rmdup -s < $f > ../motif_dedup/$f\n",
    "done"
   ]
  },
  {
   "cell_type": "code",
   "execution_count": null,
   "metadata": {
    "vscode": {
     "languageId": "shellscript"
    }
   },
   "outputs": [],
   "source": [
    "# test making a smaller tree, with specific viral taxa (Hepelivirales)\n",
    "mamba activate clustalo\n",
    "clustalo --p1 ../../resources/RdRp-scan/Phylogenies/Kitrinoviricota.CLUSTALO_0.4.fasta \\\n",
    "--auto -i ./hepelevir.faa -t Protein -o hepelevir.align.faa --threads=36\n",
    "\n",
    "sed 's, ,_,g' hepelevir.align.faa > hepelevir.align.ns.faa\n",
    "\n",
    "\n",
    "mamba activate trimal \n",
    "# do trimal\n",
    "trimal -in hepelevir.align.ns.faa \\\n",
    "-out hepelevir.align.trimal.faa -gappyout\n",
    "\n",
    "mamba activate fasttree\n",
    "FastTree < hepelevir.align.trimal.faa > hepelivir.fasttree.nwk \\\n",
    "-wag -log all.fasttree.log \n"
   ]
  }
 ],
 "metadata": {
  "language_info": {
   "name": "python"
  }
 },
 "nbformat": 4,
 "nbformat_minor": 2
}
