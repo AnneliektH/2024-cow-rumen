{
 "cells": [
  {
   "cell_type": "markdown",
   "metadata": {},
   "source": [
    "### Create phylogenetic trees\n",
    "- Ran Genomad, 3,498 hits with RdRps. \n",
    "- Also gives taxonomy\n",
    "- Downloaded NCBI RefSeq (v. 224) RdRp sequences (n=2124)\n",
    "\n",
    "\n",
    "TODO:\n",
    "- deduplicate the RdRps at 99% AAI\n",
    "- For each RdRp, align with proper taxonomic affiliation\n",
    "- Align with all RdRps from NCBI. \n",
    "\n",
    "\n",
    "Start with the Tombusviridae, cause only 4 hits. +70 refseq (this worked nicely)\n"
   ]
  },
  {
   "cell_type": "code",
   "execution_count": null,
   "metadata": {
    "vscode": {
     "languageId": "shellscript"
    }
   },
   "outputs": [],
   "source": [
    "# Deduplicate the RdRps of interest (4642 sequences left, great!):\n",
    "mamba activate cdhit\n",
    "cd-hit -i  own_refseq.rdrp.faa -o  own_refseq.rdrp.dedup.faa \\\n",
    "-c 0.99 -T 1 -d 0"
   ]
  },
  {
   "cell_type": "code",
   "execution_count": null,
   "metadata": {
    "vscode": {
     "languageId": "shellscript"
    }
   },
   "outputs": [],
   "source": [
    "# Create an overall RdRp tree\n",
    "srun --account=ctbrowngrp -p bmh -J tree_build -t 12:00:00 -c 24 --mem=50gb --pty bash\n",
    "\n",
    "mamba activate clustalo\n",
    "clustalo -i own_refseq.rdrp.dedup.faa \\\n",
    "--auto -t Protein --threads=30 \\\n",
    "-o allrdrp.clustalo.faa"
   ]
  },
  {
   "cell_type": "code",
   "execution_count": null,
   "metadata": {
    "vscode": {
     "languageId": "shellscript"
    }
   },
   "outputs": [],
   "source": [
    "# Use snakemake to make family specific trees\n",
    "snakemake --use-conda --resources mem_mb=50000 --rerun-triggers mtime \\\n",
    "-c 24 --rerun-incomplete -k -n"
   ]
  },
  {
   "cell_type": "code",
   "execution_count": null,
   "metadata": {
    "vscode": {
     "languageId": "shellscript"
    }
   },
   "outputs": [],
   "source": [
    "# trimal \n",
    "srun --account=ctbrowngrp -p bmh -J tree_build -t 1:00:00 -c 1 --mem=20gb --pty bash\n",
    "mamba activate trimal \n",
    "\n",
    "# do trimal\n",
    "trimal -in allrdrp.clustalo.faa \\\n",
    "-out allrdrp.trimal.faa -gappyout\n",
    "\n",
    "\n",
    "# fasttree\n",
    "mamba activate fasttree\n",
    "FastTree < allrdrp.trimal.faa > allrdrp.fasttree.nwk \\\n",
    "-wag -log all.fasttree.log "
   ]
  },
  {
   "cell_type": "code",
   "execution_count": null,
   "metadata": {
    "vscode": {
     "languageId": "shellscript"
    }
   },
   "outputs": [],
   "source": [
    "# Fasttree\n",
    "srun --account=ctbrowngrp -p bmm -J fastree -t 5:00:00 -c 2 --mem=50gb --pty bash\n",
    "\n",
    "# Use FastTree to make phylogenetic trees\n",
    "mamba activate fasttree\n",
    "FastTree < alignrdrp.clustalo_trimal.faa > rdrd.align.all.fasttree.nwk \\\n",
    "-wag -log all.fasttree.log "
   ]
  },
  {
   "cell_type": "markdown",
   "metadata": {
    "vscode": {
     "languageId": "shellscript"
    }
   },
   "source": [
    "# Family trees:\n",
    "- BlastP (diamond) agianst refseq\n",
    "- anything that has a hit gets in a tree with that thing\n",
    "- make fam level trees\n",
    "- crosscheck with GEnomad\n"
   ]
  },
  {
   "cell_type": "code",
   "execution_count": null,
   "metadata": {
    "vscode": {
     "languageId": "shellscript"
    }
   },
   "outputs": [],
   "source": [
    "mamba activate seqkit\n",
    "seqkit grep -n -f head.txt own_refseq.rdrp.faa -o own.dedup.faa"
   ]
  },
  {
   "cell_type": "code",
   "execution_count": null,
   "metadata": {
    "vscode": {
     "languageId": "shellscript"
    }
   },
   "outputs": [],
   "source": [
    "# create a diamond db \n",
    "mamba activate diamond\n",
    "diamond makedb --in refseqrdrp.ns.faa --db refseqrdrp.ns.dmnd\n",
    "\n",
    "# do blastp (out of 2656, 2028 aligned)\n",
    "mamba activate diamond\n",
    "diamond blastp -q own.dedup.faa \\\n",
    "--max-target-seqs 1 --header \\\n",
    "-e 1 --threads 1 \\\n",
    "--very-sensitive \\\n",
    "--db refseqrdrp.ns.dmnd \\\n",
    "-o refseq.genomad.blastp.tsv"
   ]
  },
  {
   "cell_type": "code",
   "execution_count": null,
   "metadata": {
    "vscode": {
     "languageId": "shellscript"
    }
   },
   "outputs": [],
   "source": []
  }
 ],
 "metadata": {
  "language_info": {
   "name": "python"
  }
 },
 "nbformat": 4,
 "nbformat_minor": 2
}
