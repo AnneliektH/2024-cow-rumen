{
 "cells": [
  {
   "cell_type": "code",
   "execution_count": 7,
   "id": "6eacad40-b336-4c3f-8051-f7521580f058",
   "metadata": {},
   "outputs": [],
   "source": [
    "# imports \n",
    "from collections import defaultdict\n",
    "import pandas as pd\n",
    "from Bio import SearchIO\n",
    "import glob"
   ]
  },
  {
   "cell_type": "code",
   "execution_count": 4,
   "id": "c2e2b075-4856-4776-b479-ef2e96ff4bf1",
   "metadata": {},
   "outputs": [],
   "source": [
    "# set list of attributes needed\n",
    "attribs = ['accession', 'bias', 'bitscore', 'description', 'cluster_num', \n",
    "            'domain_exp_num',  'domain_included_num', 'domain_obs_num', \n",
    "            'domain_reported_num', 'env_num', 'evalue', 'id', 'overlap_num', 'region_num']"
   ]
  },
  {
   "cell_type": "code",
   "execution_count": 18,
   "id": "8e35d256-86e4-407f-9a45-05c16d3aa9d4",
   "metadata": {},
   "outputs": [],
   "source": [
    "# define all hmm outputs\n",
    "hmm_out = glob.glob(\"./hmm_out/*.tab.out\")"
   ]
  },
  {
   "cell_type": "code",
   "execution_count": 20,
   "id": "a5ea37da-327d-4be2-997b-3bc96cb0a89f",
   "metadata": {},
   "outputs": [],
   "source": [
    "hits = defaultdict(list)\n",
    "\n",
    "# Get hmm hits for each contig and append to dictionary\n",
    "dfdict = {}\n",
    "for inf in hmm_out:\n",
    "    with open(inf) as handle:\n",
    "        for queryresult in SearchIO.parse(handle, 'hmmer3-tab'):\n",
    "            for hit in queryresult.hits:\n",
    "                for attrib in attribs:\n",
    "                    hit.accession = queryresult.id\n",
    "                    hits[attrib].append(getattr(hit, attrib))\n",
    "    # make df frim dict\n",
    "    hitdf = pd.DataFrame.from_dict(hits)\n"
   ]
  },
  {
   "cell_type": "code",
   "execution_count": 24,
   "id": "5cc5e88f-4826-4562-86e9-3dc9c18a6265",
   "metadata": {},
   "outputs": [],
   "source": [
    "# select for hits with smallest evalue\n",
    "idx_min_evalue = hitdf.groupby('accession')['evalue'].idxmin()\n",
    "filtered_df = hitdf.loc[idx_min_evalue]\n",
    "filtered_df.to_csv('RdRp_hmmr.csv')"
   ]
  },
  {
   "cell_type": "code",
   "execution_count": 26,
   "id": "a2fa5b63-fe4e-4991-9044-34cc512d469d",
   "metadata": {},
   "outputs": [],
   "source": [
    "# get the nucleotide contigs instead of the predicted protein contig\n",
    "filtered_df['contig'] = filtered_df['accession'].str.rsplit('_', n=1).str[0]\n",
    "\n",
    "# Remove contigs that are in there twice (>1 proteins were found to match)\n",
    "idx_min_evalue = filtered_df.groupby('contig')['evalue'].idxmin()\n",
    "df = filtered_df.loc[idx_min_evalue]"
   ]
  },
  {
   "cell_type": "code",
   "execution_count": null,
   "id": "81f9fd17",
   "metadata": {},
   "outputs": [],
   "source": [
    "# write to csv\n",
    "df.to_csv('RdRp_hmmr.csv')"
   ]
  }
 ],
 "metadata": {
  "kernelspec": {
   "display_name": "Python 3 (ipykernel)",
   "language": "python",
   "name": "python3"
  },
  "language_info": {
   "codemirror_mode": {
    "name": "ipython",
    "version": 3
   },
   "file_extension": ".py",
   "mimetype": "text/x-python",
   "name": "python",
   "nbconvert_exporter": "python",
   "pygments_lexer": "ipython3",
   "version": "3.11.7"
  }
 },
 "nbformat": 4,
 "nbformat_minor": 5
}
