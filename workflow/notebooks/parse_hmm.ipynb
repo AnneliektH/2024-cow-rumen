{
 "cells": [
  {
   "cell_type": "code",
   "execution_count": 7,
   "id": "6eacad40-b336-4c3f-8051-f7521580f058",
   "metadata": {},
   "outputs": [],
   "source": [
    "from collections import defaultdict\n",
    "import pandas as pd\n",
    "from Bio import SearchIO\n",
    "import glob\n"
   ]
  },
  {
   "cell_type": "code",
   "execution_count": 4,
   "id": "c2e2b075-4856-4776-b479-ef2e96ff4bf1",
   "metadata": {},
   "outputs": [],
   "source": [
    "# set list of attributes needed\n",
    "attribs = ['accession', 'bias', 'bitscore', 'description', 'cluster_num', 'domain_exp_num',  'domain_included_num', 'domain_obs_num', 'domain_reported_num', 'env_num', 'evalue', 'id', 'overlap_num', 'region_num']\n"
   ]
  },
  {
   "cell_type": "code",
   "execution_count": 18,
   "id": "8e35d256-86e4-407f-9a45-05c16d3aa9d4",
   "metadata": {},
   "outputs": [],
   "source": [
    "# define all hmm outputs\n",
    "hmm_out = glob.glob(\"./hmm_out/*.tab.out\")"
   ]
  },
  {
   "cell_type": "code",
   "execution_count": 19,
   "id": "c9f59aba-3b8d-454a-a952-32b3287aee49",
   "metadata": {},
   "outputs": [],
   "source": [
    "#filename = 'Hugo.metaT_0.tab.out'"
   ]
  },
  {
   "cell_type": "code",
   "execution_count": 20,
   "id": "a5ea37da-327d-4be2-997b-3bc96cb0a89f",
   "metadata": {},
   "outputs": [],
   "source": [
    "hits = defaultdict(list)\n",
    "\n",
    "\n",
    "\n",
    "\n",
    "\n",
    "# calculate presicion and recall for all files\n",
    "dfdict = {}\n",
    "for inf in hmm_out:\n",
    "    with open(inf) as handle:\n",
    "        for queryresult in SearchIO.parse(handle, 'hmmer3-tab'):\n",
    "            for hit in queryresult.hits:\n",
    "                for attrib in attribs:\n",
    "                    hit.accession = queryresult.id\n",
    "                    hits[attrib].append(getattr(hit, attrib))\n",
    "    hitdf = pd.DataFrame.from_dict(hits)\n",
    "\n"
   ]
  },
  {
   "cell_type": "code",
   "execution_count": 22,
   "id": "e286abfc-994c-4e8d-92b0-eeb0bc50b6fc",
   "metadata": {},
   "outputs": [
    {
     "data": {
      "text/html": [
       "<div>\n",
       "<style scoped>\n",
       "    .dataframe tbody tr th:only-of-type {\n",
       "        vertical-align: middle;\n",
       "    }\n",
       "\n",
       "    .dataframe tbody tr th {\n",
       "        vertical-align: top;\n",
       "    }\n",
       "\n",
       "    .dataframe thead th {\n",
       "        text-align: right;\n",
       "    }\n",
       "</style>\n",
       "<table border=\"1\" class=\"dataframe\">\n",
       "  <thead>\n",
       "    <tr style=\"text-align: right;\">\n",
       "      <th></th>\n",
       "      <th>accession</th>\n",
       "      <th>bias</th>\n",
       "      <th>bitscore</th>\n",
       "      <th>description</th>\n",
       "      <th>cluster_num</th>\n",
       "      <th>domain_exp_num</th>\n",
       "      <th>domain_included_num</th>\n",
       "      <th>domain_obs_num</th>\n",
       "      <th>domain_reported_num</th>\n",
       "      <th>env_num</th>\n",
       "      <th>evalue</th>\n",
       "      <th>id</th>\n",
       "      <th>overlap_num</th>\n",
       "      <th>region_num</th>\n",
       "    </tr>\n",
       "  </thead>\n",
       "  <tbody>\n",
       "    <tr>\n",
       "      <th>0</th>\n",
       "      <td>TRINITY_DN374622_c0_g1_i1_1</td>\n",
       "      <td>0.1</td>\n",
       "      <td>32.3</td>\n",
       "      <td>-</td>\n",
       "      <td>0</td>\n",
       "      <td>1.0</td>\n",
       "      <td>1</td>\n",
       "      <td>1</td>\n",
       "      <td>1</td>\n",
       "      <td>1</td>\n",
       "      <td>2.100000e-10</td>\n",
       "      <td>ALL_NCBI_Palmdb_RdRp.Durnavirales.0.4.fasta</td>\n",
       "      <td>0</td>\n",
       "      <td>1</td>\n",
       "    </tr>\n",
       "    <tr>\n",
       "      <th>1</th>\n",
       "      <td>TRINITY_DN374622_c0_g1_i1_1</td>\n",
       "      <td>0.1</td>\n",
       "      <td>21.9</td>\n",
       "      <td>-</td>\n",
       "      <td>0</td>\n",
       "      <td>1.2</td>\n",
       "      <td>1</td>\n",
       "      <td>1</td>\n",
       "      <td>1</td>\n",
       "      <td>1</td>\n",
       "      <td>2.100000e-07</td>\n",
       "      <td>Pisuviricota.ALL_RdRp_Palmdb_0.4.fasta</td>\n",
       "      <td>0</td>\n",
       "      <td>1</td>\n",
       "    </tr>\n",
       "    <tr>\n",
       "      <th>2</th>\n",
       "      <td>TRINITY_DN384548_c0_g2_i1_1</td>\n",
       "      <td>0.0</td>\n",
       "      <td>54.0</td>\n",
       "      <td>-</td>\n",
       "      <td>0</td>\n",
       "      <td>1.0</td>\n",
       "      <td>1</td>\n",
       "      <td>1</td>\n",
       "      <td>1</td>\n",
       "      <td>1</td>\n",
       "      <td>5.800000e-17</td>\n",
       "      <td>ALL_NCBI_Palmdb_RdRp.Durnavirales.0.4.fasta</td>\n",
       "      <td>0</td>\n",
       "      <td>1</td>\n",
       "    </tr>\n",
       "    <tr>\n",
       "      <th>3</th>\n",
       "      <td>TRINITY_DN384548_c0_g2_i1_1</td>\n",
       "      <td>0.0</td>\n",
       "      <td>42.0</td>\n",
       "      <td>-</td>\n",
       "      <td>0</td>\n",
       "      <td>1.0</td>\n",
       "      <td>1</td>\n",
       "      <td>1</td>\n",
       "      <td>1</td>\n",
       "      <td>1</td>\n",
       "      <td>1.700000e-13</td>\n",
       "      <td>Pisuviricota.ALL_RdRp_Palmdb_0.4.fasta</td>\n",
       "      <td>0</td>\n",
       "      <td>1</td>\n",
       "    </tr>\n",
       "    <tr>\n",
       "      <th>4</th>\n",
       "      <td>TRINITY_DN384548_c0_g2_i1_1</td>\n",
       "      <td>0.0</td>\n",
       "      <td>17.0</td>\n",
       "      <td>-</td>\n",
       "      <td>0</td>\n",
       "      <td>1.0</td>\n",
       "      <td>1</td>\n",
       "      <td>1</td>\n",
       "      <td>1</td>\n",
       "      <td>1</td>\n",
       "      <td>6.000000e-06</td>\n",
       "      <td>Duplornaviricota.ALL_RdRp_Palmdb_0.4.fasta</td>\n",
       "      <td>0</td>\n",
       "      <td>1</td>\n",
       "    </tr>\n",
       "  </tbody>\n",
       "</table>\n",
       "</div>"
      ],
      "text/plain": [
       "                     accession  bias  bitscore description  cluster_num  \\\n",
       "0  TRINITY_DN374622_c0_g1_i1_1   0.1      32.3           -            0   \n",
       "1  TRINITY_DN374622_c0_g1_i1_1   0.1      21.9           -            0   \n",
       "2  TRINITY_DN384548_c0_g2_i1_1   0.0      54.0           -            0   \n",
       "3  TRINITY_DN384548_c0_g2_i1_1   0.0      42.0           -            0   \n",
       "4  TRINITY_DN384548_c0_g2_i1_1   0.0      17.0           -            0   \n",
       "\n",
       "   domain_exp_num  domain_included_num  domain_obs_num  domain_reported_num  \\\n",
       "0             1.0                    1               1                    1   \n",
       "1             1.2                    1               1                    1   \n",
       "2             1.0                    1               1                    1   \n",
       "3             1.0                    1               1                    1   \n",
       "4             1.0                    1               1                    1   \n",
       "\n",
       "   env_num        evalue                                           id  \\\n",
       "0        1  2.100000e-10  ALL_NCBI_Palmdb_RdRp.Durnavirales.0.4.fasta   \n",
       "1        1  2.100000e-07       Pisuviricota.ALL_RdRp_Palmdb_0.4.fasta   \n",
       "2        1  5.800000e-17  ALL_NCBI_Palmdb_RdRp.Durnavirales.0.4.fasta   \n",
       "3        1  1.700000e-13       Pisuviricota.ALL_RdRp_Palmdb_0.4.fasta   \n",
       "4        1  6.000000e-06   Duplornaviricota.ALL_RdRp_Palmdb_0.4.fasta   \n",
       "\n",
       "   overlap_num  region_num  \n",
       "0            0           1  \n",
       "1            0           1  \n",
       "2            0           1  \n",
       "3            0           1  \n",
       "4            0           1  "
      ]
     },
     "execution_count": 22,
     "metadata": {},
     "output_type": "execute_result"
    }
   ],
   "source": [
    "hitdf.head()"
   ]
  },
  {
   "cell_type": "code",
   "execution_count": 24,
   "id": "5cc5e88f-4826-4562-86e9-3dc9c18a6265",
   "metadata": {},
   "outputs": [],
   "source": [
    "idx_min_evalue = hitdf.groupby('accession')['evalue'].idxmin()\n",
    "\n",
    "# Use the index to select the rows with the lowest 'evalue' for each 'accession'\n",
    "filtered_df = hitdf.loc[idx_min_evalue]\n",
    "filtered_df.to_csv('RdRp_hmmr.csv')"
   ]
  },
  {
   "cell_type": "code",
   "execution_count": 26,
   "id": "a2fa5b63-fe4e-4991-9044-34cc512d469d",
   "metadata": {},
   "outputs": [],
   "source": [
    "filtered_df['contig'] = filtered_df['accession'].str.rsplit('_', n=1).str[0]\n"
   ]
  },
  {
   "cell_type": "code",
   "execution_count": 28,
   "id": "ab2b95ad-3c0e-4f1d-8a87-b086bd45abad",
   "metadata": {},
   "outputs": [],
   "source": [
    "idx_min_evalue = filtered_df.groupby('contig')['evalue'].idxmin()\n",
    "df = filtered_df.loc[idx_min_evalue]\n"
   ]
  },
  {
   "cell_type": "code",
   "execution_count": 29,
   "id": "1824d0b5-5e8a-4ba8-924d-a65d240ddd93",
   "metadata": {},
   "outputs": [
    {
     "data": {
      "text/plain": [
       "5099"
      ]
     },
     "execution_count": 29,
     "metadata": {},
     "output_type": "execute_result"
    }
   ],
   "source": [
    "len(df)"
   ]
  },
  {
   "cell_type": "code",
   "execution_count": 30,
   "id": "05eac7b2-c876-428e-813b-2c67a2169486",
   "metadata": {},
   "outputs": [],
   "source": [
    "df.to_csv('RdRp_hmmr.csv')"
   ]
  },
  {
   "cell_type": "code",
   "execution_count": null,
   "id": "10362f35-f1e3-4d0b-91be-c28c757f7ee0",
   "metadata": {},
   "outputs": [],
   "source": []
  }
 ],
 "metadata": {
  "kernelspec": {
   "display_name": "Python 3 (ipykernel)",
   "language": "python",
   "name": "python3"
  },
  "language_info": {
   "codemirror_mode": {
    "name": "ipython",
    "version": 3
   },
   "file_extension": ".py",
   "mimetype": "text/x-python",
   "name": "python",
   "nbconvert_exporter": "python",
   "pygments_lexer": "ipython3",
   "version": "3.11.7"
  }
 },
 "nbformat": 4,
 "nbformat_minor": 5
}
